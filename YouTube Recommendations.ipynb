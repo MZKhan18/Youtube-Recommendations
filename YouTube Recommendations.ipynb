{
 "cells": [
  {
   "cell_type": "code",
   "execution_count": 1,
   "metadata": {},
   "outputs": [],
   "source": [
    "import pandas as pd\n",
    "import seaborn as sns\n",
    "import numpy as np\n",
    "from bs4 import BeautifulSoup\n",
    "from matplotlib import pyplot as plt"
   ]
  },
  {
   "cell_type": "code",
   "execution_count": 2,
   "metadata": {},
   "outputs": [],
   "source": [
    "df = pd.read_csv(\"Youtube Video Dataset.csv\")"
   ]
  },
  {
   "cell_type": "code",
   "execution_count": 3,
   "metadata": {},
   "outputs": [
    {
     "data": {
      "text/html": [
       "<div>\n",
       "<style scoped>\n",
       "    .dataframe tbody tr th:only-of-type {\n",
       "        vertical-align: middle;\n",
       "    }\n",
       "\n",
       "    .dataframe tbody tr th {\n",
       "        vertical-align: top;\n",
       "    }\n",
       "\n",
       "    .dataframe thead th {\n",
       "        text-align: right;\n",
       "    }\n",
       "</style>\n",
       "<table border=\"1\" class=\"dataframe\">\n",
       "  <thead>\n",
       "    <tr style=\"text-align: right;\">\n",
       "      <th></th>\n",
       "      <th>Title</th>\n",
       "      <th>Videourl</th>\n",
       "      <th>Category</th>\n",
       "      <th>Description</th>\n",
       "    </tr>\n",
       "  </thead>\n",
       "  <tbody>\n",
       "    <tr>\n",
       "      <th>0</th>\n",
       "      <td>Madagascar Street Food!!! Super RARE Malagasy ...</td>\n",
       "      <td>/watch?v=EwBA1fOQ96c</td>\n",
       "      <td>Food</td>\n",
       "      <td>🎥GIANT ALIEN SNAIL IN JAPAN! » https://youtu.b...</td>\n",
       "    </tr>\n",
       "    <tr>\n",
       "      <th>1</th>\n",
       "      <td>42 Foods You Need To Eat Before You Die</td>\n",
       "      <td>/watch?v=0SPwwpruGIA</td>\n",
       "      <td>Food</td>\n",
       "      <td>This is the ultimate must-try food bucket list...</td>\n",
       "    </tr>\n",
       "    <tr>\n",
       "      <th>2</th>\n",
       "      <td>Gordon Ramsay’s Top 5 Indian Dishes</td>\n",
       "      <td>/watch?v=upfu5nQB2ks</td>\n",
       "      <td>Food</td>\n",
       "      <td>We found 5 of the best and most interesting In...</td>\n",
       "    </tr>\n",
       "    <tr>\n",
       "      <th>3</th>\n",
       "      <td>How To Use Chopsticks - In About A Minute 🍜</td>\n",
       "      <td>/watch?v=xFRzzSF_6gk</td>\n",
       "      <td>Food</td>\n",
       "      <td>You're most likely sitting in a restaurant wit...</td>\n",
       "    </tr>\n",
       "    <tr>\n",
       "      <th>4</th>\n",
       "      <td>Trying Indian Food 1st Time!</td>\n",
       "      <td>/watch?v=K79bXtaRwcM</td>\n",
       "      <td>Food</td>\n",
       "      <td>HELP SUPPORT SINSTV!! Shop Our Sponsors!\\nLast...</td>\n",
       "    </tr>\n",
       "  </tbody>\n",
       "</table>\n",
       "</div>"
      ],
      "text/plain": [
       "                                               Title              Videourl  \\\n",
       "0  Madagascar Street Food!!! Super RARE Malagasy ...  /watch?v=EwBA1fOQ96c   \n",
       "1            42 Foods You Need To Eat Before You Die  /watch?v=0SPwwpruGIA   \n",
       "2                Gordon Ramsay’s Top 5 Indian Dishes  /watch?v=upfu5nQB2ks   \n",
       "3        How To Use Chopsticks - In About A Minute 🍜  /watch?v=xFRzzSF_6gk   \n",
       "4                       Trying Indian Food 1st Time!  /watch?v=K79bXtaRwcM   \n",
       "\n",
       "  Category                                        Description  \n",
       "0     Food  🎥GIANT ALIEN SNAIL IN JAPAN! » https://youtu.b...  \n",
       "1     Food  This is the ultimate must-try food bucket list...  \n",
       "2     Food  We found 5 of the best and most interesting In...  \n",
       "3     Food  You're most likely sitting in a restaurant wit...  \n",
       "4     Food  HELP SUPPORT SINSTV!! Shop Our Sponsors!\\nLast...  "
      ]
     },
     "execution_count": 3,
     "metadata": {},
     "output_type": "execute_result"
    }
   ],
   "source": [
    "df.head()"
   ]
  },
  {
   "cell_type": "code",
   "execution_count": 4,
   "metadata": {},
   "outputs": [
    {
     "data": {
      "text/plain": [
       "Title          0.000000\n",
       "Videourl       0.000000\n",
       "Category       0.000000\n",
       "Description    0.007403\n",
       "dtype: float64"
      ]
     },
     "execution_count": 4,
     "metadata": {},
     "output_type": "execute_result"
    }
   ],
   "source": [
    "df.isnull().mean()"
   ]
  },
  {
   "cell_type": "code",
   "execution_count": 5,
   "metadata": {},
   "outputs": [],
   "source": [
    "df.dropna(inplace = True)"
   ]
  },
  {
   "cell_type": "code",
   "execution_count": 6,
   "metadata": {},
   "outputs": [
    {
     "data": {
      "text/plain": [
       "Title          0\n",
       "Videourl       0\n",
       "Category       0\n",
       "Description    0\n",
       "dtype: int64"
      ]
     },
     "execution_count": 6,
     "metadata": {},
     "output_type": "execute_result"
    }
   ],
   "source": [
    "df.isnull().sum()"
   ]
  },
  {
   "cell_type": "code",
   "execution_count": 7,
   "metadata": {},
   "outputs": [
    {
     "data": {
      "text/plain": [
       "0"
      ]
     },
     "execution_count": 7,
     "metadata": {},
     "output_type": "execute_result"
    }
   ],
   "source": [
    "df.duplicated().sum()"
   ]
  },
  {
   "cell_type": "code",
   "execution_count": 8,
   "metadata": {},
   "outputs": [],
   "source": [
    "import emoji \n",
    "import string"
   ]
  },
  {
   "cell_type": "code",
   "execution_count": 9,
   "metadata": {},
   "outputs": [],
   "source": [
    "f = open('english_stopwords.txt','r')"
   ]
  },
  {
   "cell_type": "code",
   "execution_count": 10,
   "metadata": {},
   "outputs": [],
   "source": [
    "stopwords = f.read()"
   ]
  },
  {
   "cell_type": "code",
   "execution_count": 11,
   "metadata": {},
   "outputs": [],
   "source": [
    "stopwords = stopwords.split(',')"
   ]
  },
  {
   "cell_type": "code",
   "execution_count": 12,
   "metadata": {},
   "outputs": [],
   "source": [
    "def preprocess(text):\n",
    "    text = text.lower()\n",
    "    #removing special chars\n",
    "    text = text.replace('-','')\n",
    "    text = text.replace('»','')\n",
    "    text = text.replace('@','')\n",
    "    text = text.replace('+','')\n",
    "    text = text.replace('%','')\n",
    "    text = text.replace('#','')\n",
    "    text = text.replace('*','')\n",
    "    text = text.replace('/','')\n",
    "    text = emoji.replace_emoji(text,'')\n",
    "    text = text.split()\n",
    "    y = []\n",
    "    for word in text:\n",
    "        if 'http' not in word and 'https' not in word and 'www.' not in word and 'gmail' not in word:\n",
    "            if word not in stopwords and word not in y and word not in string.punctuation:\n",
    "                y.append(word)\n",
    "    return \" \".join(y)"
   ]
  },
  {
   "cell_type": "code",
   "execution_count": 13,
   "metadata": {},
   "outputs": [],
   "source": [
    "df = df.sample(8000).reset_index().drop(columns = ['index'])"
   ]
  },
  {
   "cell_type": "code",
   "execution_count": 14,
   "metadata": {},
   "outputs": [],
   "source": [
    "df['Description'] = df['Description'].apply(preprocess)"
   ]
  },
  {
   "cell_type": "code",
   "execution_count": 15,
   "metadata": {},
   "outputs": [
    {
     "data": {
      "text/html": [
       "<div>\n",
       "<style scoped>\n",
       "    .dataframe tbody tr th:only-of-type {\n",
       "        vertical-align: middle;\n",
       "    }\n",
       "\n",
       "    .dataframe tbody tr th {\n",
       "        vertical-align: top;\n",
       "    }\n",
       "\n",
       "    .dataframe thead th {\n",
       "        text-align: right;\n",
       "    }\n",
       "</style>\n",
       "<table border=\"1\" class=\"dataframe\">\n",
       "  <thead>\n",
       "    <tr style=\"text-align: right;\">\n",
       "      <th></th>\n",
       "      <th>Title</th>\n",
       "      <th>Videourl</th>\n",
       "      <th>Category</th>\n",
       "      <th>Description</th>\n",
       "    </tr>\n",
       "  </thead>\n",
       "  <tbody>\n",
       "    <tr>\n",
       "      <th>0</th>\n",
       "      <td>What is the Internet of Things? And why should...</td>\n",
       "      <td>/watch?v=_AlcRoqS65E</td>\n",
       "      <td>Science&amp;Technology</td>\n",
       "      <td>talk local tedx event, produced independently ...</td>\n",
       "    </tr>\n",
       "    <tr>\n",
       "      <th>1</th>\n",
       "      <td>350 रु में 10 कुर्ती ! Kurti Manufacturer and ...</td>\n",
       "      <td>/watch?v=0f68JmeCHB0</td>\n",
       "      <td>manufacturing</td>\n",
       "      <td>350 रु में 10 कुर्ती kurti manufacturer wholes...</td>\n",
       "    </tr>\n",
       "    <tr>\n",
       "      <th>2</th>\n",
       "      <td>Boat Food around the World- Mexico City</td>\n",
       "      <td>/watch?v=bPAOGqDoVSU</td>\n",
       "      <td>Food</td>\n",
       "      <td>boat food world: mexico city's residents' favo...</td>\n",
       "    </tr>\n",
       "    <tr>\n",
       "      <th>3</th>\n",
       "      <td>DELL - How your laptop is build</td>\n",
       "      <td>/watch?v=5QC_QShyus0</td>\n",
       "      <td>manufacturing</td>\n",
       "      <td>video showing laptop build. raw parts final pr...</td>\n",
       "    </tr>\n",
       "    <tr>\n",
       "      <th>4</th>\n",
       "      <td>Travel Vlog: Seoul, South Korea | HAUSOFCOLOR</td>\n",
       "      <td>/watch?v=9Zd8UjpJmK4</td>\n",
       "      <td>travel blog</td>\n",
       "      <td>seoul sooooo fun! tons quirky food lots shoppi...</td>\n",
       "    </tr>\n",
       "  </tbody>\n",
       "</table>\n",
       "</div>"
      ],
      "text/plain": [
       "                                               Title              Videourl  \\\n",
       "0  What is the Internet of Things? And why should...  /watch?v=_AlcRoqS65E   \n",
       "1  350 रु में 10 कुर्ती ! Kurti Manufacturer and ...  /watch?v=0f68JmeCHB0   \n",
       "2            Boat Food around the World- Mexico City  /watch?v=bPAOGqDoVSU   \n",
       "3                    DELL - How your laptop is build  /watch?v=5QC_QShyus0   \n",
       "4      Travel Vlog: Seoul, South Korea | HAUSOFCOLOR  /watch?v=9Zd8UjpJmK4   \n",
       "\n",
       "             Category                                        Description  \n",
       "0  Science&Technology  talk local tedx event, produced independently ...  \n",
       "1       manufacturing  350 रु में 10 कुर्ती kurti manufacturer wholes...  \n",
       "2                Food  boat food world: mexico city's residents' favo...  \n",
       "3       manufacturing  video showing laptop build. raw parts final pr...  \n",
       "4         travel blog  seoul sooooo fun! tons quirky food lots shoppi...  "
      ]
     },
     "execution_count": 15,
     "metadata": {},
     "output_type": "execute_result"
    }
   ],
   "source": [
    "\n",
    "df.head()"
   ]
  },
  {
   "cell_type": "code",
   "execution_count": 16,
   "metadata": {},
   "outputs": [],
   "source": [
    "df['tags'] =  df['Category'] + \" \"+df['Description']"
   ]
  },
  {
   "cell_type": "code",
   "execution_count": 17,
   "metadata": {},
   "outputs": [
    {
     "data": {
      "text/html": [
       "<div>\n",
       "<style scoped>\n",
       "    .dataframe tbody tr th:only-of-type {\n",
       "        vertical-align: middle;\n",
       "    }\n",
       "\n",
       "    .dataframe tbody tr th {\n",
       "        vertical-align: top;\n",
       "    }\n",
       "\n",
       "    .dataframe thead th {\n",
       "        text-align: right;\n",
       "    }\n",
       "</style>\n",
       "<table border=\"1\" class=\"dataframe\">\n",
       "  <thead>\n",
       "    <tr style=\"text-align: right;\">\n",
       "      <th></th>\n",
       "      <th>Title</th>\n",
       "      <th>Videourl</th>\n",
       "      <th>Category</th>\n",
       "      <th>Description</th>\n",
       "      <th>tags</th>\n",
       "    </tr>\n",
       "  </thead>\n",
       "  <tbody>\n",
       "    <tr>\n",
       "      <th>0</th>\n",
       "      <td>What is the Internet of Things? And why should...</td>\n",
       "      <td>/watch?v=_AlcRoqS65E</td>\n",
       "      <td>Science&amp;Technology</td>\n",
       "      <td>talk local tedx event, produced independently ...</td>\n",
       "      <td>Science&amp;Technology talk local tedx event, prod...</td>\n",
       "    </tr>\n",
       "    <tr>\n",
       "      <th>1</th>\n",
       "      <td>350 रु में 10 कुर्ती ! Kurti Manufacturer and ...</td>\n",
       "      <td>/watch?v=0f68JmeCHB0</td>\n",
       "      <td>manufacturing</td>\n",
       "      <td>350 रु में 10 कुर्ती kurti manufacturer wholes...</td>\n",
       "      <td>manufacturing 350 रु में 10 कुर्ती kurti manuf...</td>\n",
       "    </tr>\n",
       "    <tr>\n",
       "      <th>2</th>\n",
       "      <td>Boat Food around the World- Mexico City</td>\n",
       "      <td>/watch?v=bPAOGqDoVSU</td>\n",
       "      <td>Food</td>\n",
       "      <td>boat food world: mexico city's residents' favo...</td>\n",
       "      <td>Food boat food world: mexico city's residents'...</td>\n",
       "    </tr>\n",
       "    <tr>\n",
       "      <th>3</th>\n",
       "      <td>DELL - How your laptop is build</td>\n",
       "      <td>/watch?v=5QC_QShyus0</td>\n",
       "      <td>manufacturing</td>\n",
       "      <td>video showing laptop build. raw parts final pr...</td>\n",
       "      <td>manufacturing video showing laptop build. raw ...</td>\n",
       "    </tr>\n",
       "    <tr>\n",
       "      <th>4</th>\n",
       "      <td>Travel Vlog: Seoul, South Korea | HAUSOFCOLOR</td>\n",
       "      <td>/watch?v=9Zd8UjpJmK4</td>\n",
       "      <td>travel blog</td>\n",
       "      <td>seoul sooooo fun! tons quirky food lots shoppi...</td>\n",
       "      <td>travel blog seoul sooooo fun! tons quirky food...</td>\n",
       "    </tr>\n",
       "  </tbody>\n",
       "</table>\n",
       "</div>"
      ],
      "text/plain": [
       "                                               Title              Videourl  \\\n",
       "0  What is the Internet of Things? And why should...  /watch?v=_AlcRoqS65E   \n",
       "1  350 रु में 10 कुर्ती ! Kurti Manufacturer and ...  /watch?v=0f68JmeCHB0   \n",
       "2            Boat Food around the World- Mexico City  /watch?v=bPAOGqDoVSU   \n",
       "3                    DELL - How your laptop is build  /watch?v=5QC_QShyus0   \n",
       "4      Travel Vlog: Seoul, South Korea | HAUSOFCOLOR  /watch?v=9Zd8UjpJmK4   \n",
       "\n",
       "             Category                                        Description  \\\n",
       "0  Science&Technology  talk local tedx event, produced independently ...   \n",
       "1       manufacturing  350 रु में 10 कुर्ती kurti manufacturer wholes...   \n",
       "2                Food  boat food world: mexico city's residents' favo...   \n",
       "3       manufacturing  video showing laptop build. raw parts final pr...   \n",
       "4         travel blog  seoul sooooo fun! tons quirky food lots shoppi...   \n",
       "\n",
       "                                                tags  \n",
       "0  Science&Technology talk local tedx event, prod...  \n",
       "1  manufacturing 350 रु में 10 कुर्ती kurti manuf...  \n",
       "2  Food boat food world: mexico city's residents'...  \n",
       "3  manufacturing video showing laptop build. raw ...  \n",
       "4  travel blog seoul sooooo fun! tons quirky food...  "
      ]
     },
     "execution_count": 17,
     "metadata": {},
     "output_type": "execute_result"
    }
   ],
   "source": [
    "df.head()"
   ]
  },
  {
   "cell_type": "code",
   "execution_count": 18,
   "metadata": {},
   "outputs": [],
   "source": [
    "df.drop(columns=['Description'],inplace = True)"
   ]
  },
  {
   "cell_type": "code",
   "execution_count": 19,
   "metadata": {},
   "outputs": [],
   "source": [
    "# import pickle\n",
    "# pickle.dump(df.to_dict(),open(\"df_dict.pkl\",\"wb\"))"
   ]
  },
  {
   "cell_type": "code",
   "execution_count": 20,
   "metadata": {},
   "outputs": [],
   "source": [
    "from sklearn.metrics.pairwise import cosine_similarity\n",
    "from sklearn.feature_extraction.text import TfidfVectorizer"
   ]
  },
  {
   "cell_type": "code",
   "execution_count": 21,
   "metadata": {},
   "outputs": [],
   "source": [
    "tfidf = TfidfVectorizer(max_features=5000)"
   ]
  },
  {
   "cell_type": "code",
   "execution_count": 22,
   "metadata": {},
   "outputs": [],
   "source": [
    "vectors = tfidf.fit_transform(df['tags']).toarray()"
   ]
  },
  {
   "cell_type": "code",
   "execution_count": 23,
   "metadata": {},
   "outputs": [],
   "source": [
    "similarity   = cosine_similarity(vectors)"
   ]
  },
  {
   "cell_type": "code",
   "execution_count": 24,
   "metadata": {},
   "outputs": [
    {
     "data": {
      "text/plain": [
       "array([1.        , 0.06677378, 0.00277274, ..., 0.00533004, 0.04050102,\n",
       "       0.01819157])"
      ]
     },
     "execution_count": 24,
     "metadata": {},
     "output_type": "execute_result"
    }
   ],
   "source": [
    "similarity[0]"
   ]
  },
  {
   "cell_type": "code",
   "execution_count": 25,
   "metadata": {},
   "outputs": [
    {
     "data": {
      "text/plain": [
       "[(4534, 0.6742491038935268),\n",
       " (1591, 0.662124583203592),\n",
       " (1470, 0.6121769556787461),\n",
       " (1075, 0.6086607545587752),\n",
       " (3249, 0.607403560051018)]"
      ]
     },
     "execution_count": 25,
     "metadata": {},
     "output_type": "execute_result"
    }
   ],
   "source": [
    "sorted(list(enumerate(similarity[0])),reverse = True, key = lambda x: x[1])[1:6]"
   ]
  },
  {
   "cell_type": "code",
   "execution_count": 26,
   "metadata": {},
   "outputs": [
    {
     "data": {
      "text/plain": [
       "(8000, 8000)"
      ]
     },
     "execution_count": 26,
     "metadata": {},
     "output_type": "execute_result"
    }
   ],
   "source": [
    "similarity.shape"
   ]
  },
  {
   "cell_type": "code",
   "execution_count": 27,
   "metadata": {},
   "outputs": [],
   "source": [
    "shape = (8000,5)\n",
    "simi = np.zeros(shape)"
   ]
  },
  {
   "cell_type": "code",
   "execution_count": 28,
   "metadata": {},
   "outputs": [
    {
     "data": {
      "text/plain": [
       "0"
      ]
     },
     "execution_count": 28,
     "metadata": {},
     "output_type": "execute_result"
    }
   ],
   "source": [
    "simi = [0,3]\n",
    "# simi.shape\n",
    "simi.pop(0)"
   ]
  },
  {
   "cell_type": "code",
   "execution_count": 29,
   "metadata": {},
   "outputs": [
    {
     "data": {
      "text/plain": [
       "3"
      ]
     },
     "execution_count": 29,
     "metadata": {},
     "output_type": "execute_result"
    }
   ],
   "source": [
    "simi.pop(0)"
   ]
  },
  {
   "cell_type": "code",
   "execution_count": 30,
   "metadata": {},
   "outputs": [],
   "source": [
    "for i in range(0,similarity.shape[0]):\n",
    "    simi.append(sorted(list(enumerate(similarity[i])),reverse = True, key = lambda x: x[1])[1:6])"
   ]
  },
  {
   "cell_type": "code",
   "execution_count": 31,
   "metadata": {},
   "outputs": [
    {
     "data": {
      "text/plain": [
       "[(3419, 0.7198592310463281),\n",
       " (326, 0.3797086573441207),\n",
       " (6925, 0.36416584134796426),\n",
       " (605, 0.3425323911336283),\n",
       " (4453, 0.3335319323720615)]"
      ]
     },
     "execution_count": 31,
     "metadata": {},
     "output_type": "execute_result"
    }
   ],
   "source": [
    "sorted(list(simi[1]),reverse = True, key = lambda x: x[1])[0:5]"
   ]
  },
  {
   "cell_type": "code",
   "execution_count": 32,
   "metadata": {},
   "outputs": [
    {
     "data": {
      "text/plain": [
       "[(3419, 0.7198592310463281),\n",
       " (326, 0.3797086573441207),\n",
       " (6925, 0.36416584134796426),\n",
       " (605, 0.3425323911336283),\n",
       " (4453, 0.3335319323720615)]"
      ]
     },
     "execution_count": 32,
     "metadata": {},
     "output_type": "execute_result"
    }
   ],
   "source": [
    "sorted(list(enumerate(similarity[1])),reverse = True, key = lambda x: x[1])[1:6]"
   ]
  },
  {
   "cell_type": "code",
   "execution_count": 46,
   "metadata": {},
   "outputs": [],
   "source": [
    "def recommend(title):\n",
    "    video_index = df[df['Title'] == title].index[0]\n",
    "    dist = simi[video_index]\n",
    "    video_list = sorted(list((dist)),reverse = True, key = lambda x: x[1])[0:5]\n",
    "    for i in video_list:\n",
    "        print(df.iloc[i[0]].Title)\n",
    "        print(\"-\"*50)"
   ]
  },
  {
   "cell_type": "code",
   "execution_count": 51,
   "metadata": {},
   "outputs": [
    {
     "name": "stdout",
     "output_type": "stream",
     "text": [
      "Why It’s So Hard to Capture CO2 From the Air\n",
      "--------------------------------------------------\n",
      "This Quantum ‘Sixth Sense’ Could Allow Birds to Navigate Earth’s Magnetic Field\n",
      "--------------------------------------------------\n",
      "What Do Artificial Sweeteners Actually Do to Your Body?\n",
      "--------------------------------------------------\n",
      "Is Phosphorus the Reason We Haven’t Found Aliens Yet?\n",
      "--------------------------------------------------\n",
      "The ‘Ham Sandwich Theorem’ Will Change How You See the Universe… Seriously\n",
      "--------------------------------------------------\n"
     ]
    },
    {
     "data": {
      "text/plain": [
       "['Why It’s So Hard to Capture CO2 From the Air',\n",
       " 'This Quantum ‘Sixth Sense’ Could Allow Birds to Navigate Earth’s Magnetic Field',\n",
       " 'What Do Artificial Sweeteners Actually Do to Your Body?',\n",
       " 'Is Phosphorus the Reason We Haven’t Found Aliens Yet?',\n",
       " 'The ‘Ham Sandwich Theorem’ Will Change How You See the Universe… Seriously']"
      ]
     },
     "execution_count": 51,
     "metadata": {},
     "output_type": "execute_result"
    }
   ],
   "source": [
    "recommend(df['Title'][26])"
   ]
  },
  {
   "cell_type": "code",
   "execution_count": 50,
   "metadata": {},
   "outputs": [
    {
     "data": {
      "text/html": [
       "<div>\n",
       "<style scoped>\n",
       "    .dataframe tbody tr th:only-of-type {\n",
       "        vertical-align: middle;\n",
       "    }\n",
       "\n",
       "    .dataframe tbody tr th {\n",
       "        vertical-align: top;\n",
       "    }\n",
       "\n",
       "    .dataframe thead th {\n",
       "        text-align: right;\n",
       "    }\n",
       "</style>\n",
       "<table border=\"1\" class=\"dataframe\">\n",
       "  <thead>\n",
       "    <tr style=\"text-align: right;\">\n",
       "      <th></th>\n",
       "      <th>Title</th>\n",
       "      <th>Videourl</th>\n",
       "      <th>Category</th>\n",
       "      <th>tags</th>\n",
       "    </tr>\n",
       "  </thead>\n",
       "  <tbody>\n",
       "    <tr>\n",
       "      <th>26</th>\n",
       "      <td>Why a Half Degree Rise in Global Temperature W...</td>\n",
       "      <td>/watch?v=teZk3NLU_7M</td>\n",
       "      <td>Science&amp;Technology</td>\n",
       "      <td>Science&amp;Technology report, earth reach 1.5°c w...</td>\n",
       "    </tr>\n",
       "  </tbody>\n",
       "</table>\n",
       "</div>"
      ],
      "text/plain": [
       "                                                Title              Videourl  \\\n",
       "26  Why a Half Degree Rise in Global Temperature W...  /watch?v=teZk3NLU_7M   \n",
       "\n",
       "              Category                                               tags  \n",
       "26  Science&Technology  Science&Technology report, earth reach 1.5°c w...  "
      ]
     },
     "execution_count": 50,
     "metadata": {},
     "output_type": "execute_result"
    }
   ],
   "source": [
    "df[df['Title']=='Why a Half Degree Rise in Global Temperature Would Be Catastrophic']"
   ]
  },
  {
   "cell_type": "code",
   "execution_count": 35,
   "metadata": {},
   "outputs": [
    {
     "data": {
      "text/html": [
       "<div>\n",
       "<style scoped>\n",
       "    .dataframe tbody tr th:only-of-type {\n",
       "        vertical-align: middle;\n",
       "    }\n",
       "\n",
       "    .dataframe tbody tr th {\n",
       "        vertical-align: top;\n",
       "    }\n",
       "\n",
       "    .dataframe thead th {\n",
       "        text-align: right;\n",
       "    }\n",
       "</style>\n",
       "<table border=\"1\" class=\"dataframe\">\n",
       "  <thead>\n",
       "    <tr style=\"text-align: right;\">\n",
       "      <th></th>\n",
       "      <th>Title</th>\n",
       "      <th>Videourl</th>\n",
       "      <th>Category</th>\n",
       "      <th>tags</th>\n",
       "    </tr>\n",
       "  </thead>\n",
       "  <tbody>\n",
       "    <tr>\n",
       "      <th>479</th>\n",
       "      <td>Gurudwara Manikaran Sahib and Hot Springs in K...</td>\n",
       "      <td>/watch?v=XZhXZdmrzpY</td>\n",
       "      <td>travel blog</td>\n",
       "      <td>travel blog gurudwara manikaran sahib pilgrima...</td>\n",
       "    </tr>\n",
       "    <tr>\n",
       "      <th>3597</th>\n",
       "      <td>My Solo Birthday Trip to Puerto Rico | All Thi...</td>\n",
       "      <td>/watch?v=tI6Ju0TiI_Q</td>\n",
       "      <td>travel blog</td>\n",
       "      <td>travel blog ♡ subscribe channel follow insta a...</td>\n",
       "    </tr>\n",
       "    <tr>\n",
       "      <th>593</th>\n",
       "      <td>LAB RULES - Dua Lipa \"New Rules\" Parody</td>\n",
       "      <td>/watch?v=BRDApYgvDqQ</td>\n",
       "      <td>Science&amp;Technology</td>\n",
       "      <td>Science&amp;Technology low cost science parody dua...</td>\n",
       "    </tr>\n",
       "    <tr>\n",
       "      <th>4273</th>\n",
       "      <td>Top 10 Facts About The United Kingdom</td>\n",
       "      <td>/watch?v=Jrka9Nt-nQo</td>\n",
       "      <td>History</td>\n",
       "      <td>History 10 facts united kingdom! music: nicola...</td>\n",
       "    </tr>\n",
       "    <tr>\n",
       "      <th>6521</th>\n",
       "      <td>Rajasthan Diaries | Jaipur &amp; Udaipur | Beautif...</td>\n",
       "      <td>/watch?v=Foch4KRL3fo</td>\n",
       "      <td>travel blog</td>\n",
       "      <td>travel blog jaipur diaries panna meena stepwel...</td>\n",
       "    </tr>\n",
       "    <tr>\n",
       "      <th>4228</th>\n",
       "      <td>EKTA - An Arts, Music and Art of living Festiv...</td>\n",
       "      <td>/watch?v=XLhCx5YnNb8</td>\n",
       "      <td>Art&amp;Music</td>\n",
       "      <td>Art&amp;Music ekta arts, music art living festival...</td>\n",
       "    </tr>\n",
       "    <tr>\n",
       "      <th>869</th>\n",
       "      <td>Debunking All Those Personality Tests You Clic...</td>\n",
       "      <td>/watch?v=JN09RNHE0mI</td>\n",
       "      <td>Science&amp;Technology</td>\n",
       "      <td>Science&amp;Technology internet chockfull personal...</td>\n",
       "    </tr>\n",
       "    <tr>\n",
       "      <th>4467</th>\n",
       "      <td>The emergence of \"4D printing\" | Skylar Tibbits</td>\n",
       "      <td>/watch?v=0gMCZFHv9v8</td>\n",
       "      <td>Science&amp;Technology</td>\n",
       "      <td>Science&amp;Technology printing grown sophisticati...</td>\n",
       "    </tr>\n",
       "    <tr>\n",
       "      <th>7417</th>\n",
       "      <td>Stretchy Batteries Are Coming... Here's How Th...</td>\n",
       "      <td>/watch?v=ZkzxtprYI_0</td>\n",
       "      <td>Science&amp;Technology</td>\n",
       "      <td>Science&amp;Technology researchers developed batte...</td>\n",
       "    </tr>\n",
       "    <tr>\n",
       "      <th>2715</th>\n",
       "      <td>கோவா பகுதி 2/ Part - 2 / Goa Vlog | #Travel #B...</td>\n",
       "      <td>/watch?v=Wo1Du-kHwfE</td>\n",
       "      <td>travel blog</td>\n",
       "      <td>travel blog கோவாவிற்கு செல்லவேண்டும் ஆனால் எப்...</td>\n",
       "    </tr>\n",
       "  </tbody>\n",
       "</table>\n",
       "</div>"
      ],
      "text/plain": [
       "                                                  Title              Videourl  \\\n",
       "479   Gurudwara Manikaran Sahib and Hot Springs in K...  /watch?v=XZhXZdmrzpY   \n",
       "3597  My Solo Birthday Trip to Puerto Rico | All Thi...  /watch?v=tI6Ju0TiI_Q   \n",
       "593             LAB RULES - Dua Lipa \"New Rules\" Parody  /watch?v=BRDApYgvDqQ   \n",
       "4273              Top 10 Facts About The United Kingdom  /watch?v=Jrka9Nt-nQo   \n",
       "6521  Rajasthan Diaries | Jaipur & Udaipur | Beautif...  /watch?v=Foch4KRL3fo   \n",
       "4228  EKTA - An Arts, Music and Art of living Festiv...  /watch?v=XLhCx5YnNb8   \n",
       "869   Debunking All Those Personality Tests You Clic...  /watch?v=JN09RNHE0mI   \n",
       "4467    The emergence of \"4D printing\" | Skylar Tibbits  /watch?v=0gMCZFHv9v8   \n",
       "7417  Stretchy Batteries Are Coming... Here's How Th...  /watch?v=ZkzxtprYI_0   \n",
       "2715  கோவா பகுதி 2/ Part - 2 / Goa Vlog | #Travel #B...  /watch?v=Wo1Du-kHwfE   \n",
       "\n",
       "                Category                                               tags  \n",
       "479          travel blog  travel blog gurudwara manikaran sahib pilgrima...  \n",
       "3597         travel blog  travel blog ♡ subscribe channel follow insta a...  \n",
       "593   Science&Technology  Science&Technology low cost science parody dua...  \n",
       "4273             History  History 10 facts united kingdom! music: nicola...  \n",
       "6521         travel blog  travel blog jaipur diaries panna meena stepwel...  \n",
       "4228           Art&Music  Art&Music ekta arts, music art living festival...  \n",
       "869   Science&Technology  Science&Technology internet chockfull personal...  \n",
       "4467  Science&Technology  Science&Technology printing grown sophisticati...  \n",
       "7417  Science&Technology  Science&Technology researchers developed batte...  \n",
       "2715         travel blog  travel blog கோவாவிற்கு செல்லவேண்டும் ஆனால் எப்...  "
      ]
     },
     "execution_count": 35,
     "metadata": {},
     "output_type": "execute_result"
    }
   ],
   "source": [
    "df.sample(10)"
   ]
  },
  {
   "cell_type": "code",
   "execution_count": 42,
   "metadata": {},
   "outputs": [],
   "source": [
    "import pickle"
   ]
  },
  {
   "cell_type": "code",
   "execution_count": 37,
   "metadata": {},
   "outputs": [],
   "source": [
    "# pickle.dump(simi,open('simi.pkl'))\n",
    "# pickle.dump(df.to_dict,open('df.pkl'))"
   ]
  },
  {
   "cell_type": "code",
   "execution_count": 49,
   "metadata": {},
   "outputs": [],
   "source": [
    "pickle.dump(df.to_dict(),open('df.pkl','wb'))"
   ]
  },
  {
   "cell_type": "code",
   "execution_count": 53,
   "metadata": {},
   "outputs": [],
   "source": [
    "pickle.dump(simi,open('simi1.pkl','wb'))"
   ]
  },
  {
   "cell_type": "code",
   "execution_count": null,
   "metadata": {},
   "outputs": [],
   "source": []
  }
 ],
 "metadata": {
  "kernelspec": {
   "display_name": "Python 3",
   "language": "python",
   "name": "python3"
  },
  "language_info": {
   "codemirror_mode": {
    "name": "ipython",
    "version": 3
   },
   "file_extension": ".py",
   "mimetype": "text/x-python",
   "name": "python",
   "nbconvert_exporter": "python",
   "pygments_lexer": "ipython3",
   "version": "3.8.5"
  }
 },
 "nbformat": 4,
 "nbformat_minor": 4
}
